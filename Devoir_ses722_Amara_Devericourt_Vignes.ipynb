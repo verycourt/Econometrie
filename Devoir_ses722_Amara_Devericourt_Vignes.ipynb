{
 "cells": [
  {
   "cell_type": "markdown",
   "metadata": {},
   "source": [
    "# Projet d'économétrie"
   ]
  },
  {
   "cell_type": "markdown",
   "metadata": {},
   "source": [
    "- Amara Hamid\n",
    "- De vericourt Betrand\n",
    "- Vignes Raphaël"
   ]
  },
  {
   "cell_type": "markdown",
   "metadata": {
    "deletable": true,
    "editable": true
   },
   "source": [
    "## Partie 1 - Régression"
   ]
  },
  {
   "cell_type": "code",
   "execution_count": 275,
   "metadata": {
    "collapsed": false,
    "deletable": true,
    "editable": true
   },
   "outputs": [],
   "source": [
    "import pandas as pd\n",
    "import matplotlib.pyplot as plt\n",
    "import numpy as np\n",
    "import scipy.stats.mstats as ms\n",
    "import statsmodels.formula.api as smf\n",
    "import statsmodels.api as sm\n",
    "from statsmodels.graphics.tsaplots import plot_acf, plot_pacf\n",
    "from statsmodels.tsa.ar_model import AR\n",
    "from scipy import stats\n",
    "from dateutil.parser import parse\n",
    "from math import *\n",
    "import statsmodels.formula.api as smf"
   ]
  },
  {
   "cell_type": "markdown",
   "metadata": {
    "deletable": true,
    "editable": true
   },
   "source": [
    "### 1. Lire le fichier mroz.txt. Ne sélectionner que les observations pour lesquelles la variable wage est strictement positive."
   ]
  },
  {
   "cell_type": "code",
   "execution_count": 276,
   "metadata": {
    "collapsed": false,
    "deletable": true,
    "editable": true
   },
   "outputs": [
    {
     "name": "stdout",
     "output_type": "stream",
     "text": [
      "   inlf  hours  kidslt6  kidsge6  age  educ    wage  repwage  hushrs  husage  \\\n",
      "0     1   1610        1        0   32    12  3.3540     2.65    2708      34   \n",
      "1     1   1656        0        2   30    12  1.3889     2.65    2310      30   \n",
      "2     1   1980        1        3   35    12  4.5455     4.04    3072      40   \n",
      "3     1    456        0        3   34    12  1.0965     3.25    1920      53   \n",
      "4     1   1568        1        2   31    14  4.5918     3.60    2000      32   \n",
      "\n",
      "    ...     faminc     mtr  motheduc  fatheduc  unem  city  exper   nwifeinc  \\\n",
      "0   ...      16310  0.7215        12         7   5.0     0     14  10.910060   \n",
      "1   ...      21800  0.6615         7         7  11.0     1      5  19.499980   \n",
      "2   ...      21040  0.6915        12         7   5.0     0     15  12.039910   \n",
      "3   ...       7300  0.7815         7         7   5.0     0      6   6.799996   \n",
      "4   ...      27300  0.6215        12        14   9.5     1      7  20.100060   \n",
      "\n",
      "      lwage  expersq  \n",
      "0  1.210154      196  \n",
      "1  .3285121       25  \n",
      "2  1.514138      225  \n",
      "3  .0921233       36  \n",
      "4  1.524272       49  \n",
      "\n",
      "[5 rows x 22 columns]\n"
     ]
    }
   ],
   "source": [
    "names = [\n",
    "    'inlf',                    # =1 if in labor force, 1975\n",
    "    'hours',                   # hours worked, 1975\n",
    "    'kidslt6',                 # #kids < 6 years\n",
    "    'kidsge6',                 # #kids 6-18\n",
    "    'age',                     # woman's age in yrs\n",
    "    'educ',                    # years of schooling\n",
    "    'wage',                    # estimated wage from earns., hours\n",
    "    'repwage',                 # reported wage at interview in 1976\n",
    "    'hushrs',                  # hours worked by husband, 1975\n",
    "    'husage',                  # husband's age\n",
    "    'huseduc',                 # husband's years of schooling\n",
    "    'huswage',                 # husband's hourly wage, 1975\n",
    "    'faminc',                  # family income, 1975\n",
    "    'mtr',                     # fed. marginal tax rate facing woman\n",
    "    'motheduc',                # mother's years of schooling\n",
    "    'fatheduc',                # father's years of schooling\n",
    "    'unem',                    # unem. rate in county of resid.\n",
    "    'city',                    # =1 if live in SMSA\n",
    "    'exper',                   # actual labor mkt exper\n",
    "    'nwifeinc',                # (faminc - wage*hours)/1000\n",
    "    'lwage',                   # log(wage)\n",
    "    'expersq',                 # exper^2\n",
    "]\n",
    "\n",
    "df = pd.read_csv('textfiles/MROZ.raw', sep='\\s+', names=names, decimal='.') # Chargement des données\n",
    "cols = ['wage', 'huswage']\n",
    "for c in cols: # Problème à gérer avec la colonne wage\n",
    "    df[c] = [0. if w=='.' else float(w) for w in df[c]]\n",
    "df = df[df.wage > 0.]\n",
    "print(df.head())"
   ]
  },
  {
   "cell_type": "markdown",
   "metadata": {
    "deletable": true,
    "editable": true
   },
   "source": [
    "### 2. Faire les statistiques descriptives du salaire, de l’age et de l’éducation  pour l’ensemble des femmes puis, pour les femmes dont le salaire du mari est supérieur à la médiane de l’échantillon, puis pour les femmes dont le salaire du mari est inférieur à la médiane de l’échantillon"
   ]
  },
  {
   "cell_type": "code",
   "execution_count": 277,
   "metadata": {
    "collapsed": false,
    "deletable": true,
    "editable": true,
    "scrolled": false
   },
   "outputs": [
    {
     "name": "stdout",
     "output_type": "stream",
     "text": [
      "- Ensemble des femmes -\n",
      "              wage        educ\n",
      "count  428.000000  428.000000\n",
      "mean     4.177682   12.658879\n",
      "std      3.310282    2.285376\n",
      "min      0.128200    5.000000\n",
      "25%      2.262600   12.000000\n",
      "50%      3.481900   12.000000\n",
      "75%      4.970750   14.000000\n",
      "max     25.000000   17.000000\n",
      "\n",
      "- Salaire hommes supérieur médiane femmes -\n",
      "              wage        educ\n",
      "count  380.000000  380.000000\n",
      "mean     4.209165   12.684211\n",
      "std      3.335807    2.299538\n",
      "min      0.128200    5.000000\n",
      "25%      2.274725   12.000000\n",
      "50%      3.566500   12.000000\n",
      "75%      5.089100   14.000000\n",
      "max     25.000000   17.000000\n",
      "\n",
      "- Salaire hommes inférieur médiane femmes -\n",
      "             wage       educ\n",
      "count  48.000000  48.000000\n",
      "mean    3.928438  12.458333\n",
      "std     3.122774   2.182701\n",
      "min     1.201900   8.000000\n",
      "25%     2.135750  11.750000\n",
      "50%     2.945800  12.000000\n",
      "75%     4.352375  14.000000\n",
      "max    18.267000  16.000000\n"
     ]
    }
   ],
   "source": [
    "print('- Ensemble des femmes -\\n',df[['wage','educ']].describe()) # Stats descriptives ensemble femmes\n",
    "print('\\n- Salaire hommes supérieur médiane femmes -\\n',df[df['huswage'] > df['wage'].median()][['wage','educ']].describe())\n",
    "print('\\n- Salaire hommes inférieur médiane femmes -\\n',df[df['huswage'] < df['wage'].median()][['wage','educ']].describe())\n",
    "\n"
   ]
  },
  {
   "cell_type": "markdown",
   "metadata": {
    "deletable": true,
    "editable": true
   },
   "source": [
    "### 3. Faire l'histogramme de la variable wage. Calculer le log de wage et faire l'histogramme. Comparez les deux histogrammes et commentez"
   ]
  },
  {
   "cell_type": "code",
   "execution_count": 278,
   "metadata": {
    "collapsed": false,
    "deletable": true,
    "editable": true
   },
   "outputs": [
    {
     "data": {
      "image/png": "[encoded data removed]",
      "text/plain": [
       "<matplotlib.figure.Figure at 0x7f8755af5160>"
      ]
     },
     "metadata": {},
     "output_type": "display_data"
    },
    {
     "data": {
      "image/png": "[encoded data removed]",
      "text/plain": [
       "<matplotlib.figure.Figure at 0x7f87557c1320>"
      ]
     },
     "metadata": {},
     "output_type": "display_data"
    }
   ],
   "source": [
    "df['wage'].hist()\n",
    "plt.title('Histogramme de la variable wage')\n",
    "plt.show()\n",
    "df['logwage'] = df['wage'].apply(np.log)\n",
    "df['logwage'].hist()\n",
    "plt.title('Histogramme du log de la variable wage')\n",
    "plt.show()"
   ]
  },
  {
   "cell_type": "markdown",
   "metadata": {
    "deletable": true,
    "editable": true
   },
   "source": [
    "Sous forme logarithmique, le salaire se rapproche d'une distribution suivant une loi normale."
   ]
  },
  {
   "cell_type": "markdown",
   "metadata": {
    "deletable": true,
    "editable": true
   },
   "source": [
    "### 4. Calculer les corrélations motheduc et fatheduc. Commentez. Il y a-t-il un problème de multicollinéarité si l'on utilise ces variables comme variables explicatives ?"
   ]
  },
  {
   "cell_type": "code",
   "execution_count": 279,
   "metadata": {
    "collapsed": false,
    "deletable": true,
    "editable": true
   },
   "outputs": [
    {
     "name": "stdout",
     "output_type": "stream",
     "text": [
      "0.55073278224 2.5800056955163443e-35\n"
     ]
    }
   ],
   "source": [
    "corr, pvalue =ms.spearmanr(df['motheduc'], df['fatheduc'])\n",
    "print(corr, pvalue)"
   ]
  },
  {
   "cell_type": "markdown",
   "metadata": {
    "deletable": true,
    "editable": true
   },
   "source": [
    "Ces deux variables sont corrélées, avec une pvalue à 2.6e-35 donc elle est largement significative à 5% ou 1% par exemple. Il y'a donc un problème de multicollinéarité si l'on utilise ces variables comme variables explicatives."
   ]
  },
  {
   "cell_type": "markdown",
   "metadata": {
    "deletable": true,
    "editable": true
   },
   "source": [
    "### 5. Faites un graphique en nuage de point entre wage et educ, wage et exper, wage et fatheduc. Commentez. S'agit-il d'un effet \"toute chose étant égale par ailleurs ?\""
   ]
  },
  {
   "cell_type": "code",
   "execution_count": 280,
   "metadata": {
    "collapsed": false,
    "deletable": true,
    "editable": true
   },
   "outputs": [
    {
     "data": {
      "image/png": "[encoded data removed]",
      "text/plain": [
       "<matplotlib.figure.Figure at 0x7f8758deda20>"
      ]
     },
     "metadata": {},
     "output_type": "display_data"
    },
    {
     "name": "stdout",
     "output_type": "stream",
     "text": [
      "0.384384223428 1.611334244070839e-16\n"
     ]
    }
   ],
   "source": [
    "plt.scatter(df['wage'], df['educ'])\n",
    "plt.title('Nuage de points entre wage et educ')\n",
    "plt.xlabel('Wage')\n",
    "plt.ylabel('Educ')\n",
    "plt.show()\n",
    "corr, pvalue =ms.spearmanr(df['wage'], df['educ'])\n",
    "print(corr, pvalue)\n"
   ]
  },
  {
   "cell_type": "markdown",
   "metadata": {
    "deletable": true,
    "editable": true
   },
   "source": [
    "Nous voyons que plus la femme est éduquée, plus la borne supérieure de salaire est élevée, mais également que la dispersion des salaires augmente fortement avec le niveau d'éducation.\n",
    "Il y'a un effet ceteris paribus, nous observons une corrélation significative de 0.4 entre les deux variables."
   ]
  },
  {
   "cell_type": "code",
   "execution_count": 281,
   "metadata": {
    "collapsed": false,
    "deletable": true,
    "editable": true
   },
   "outputs": [
    {
     "data": {
      "image/png": "[encoded data removed]",
      "text/plain": [
       "<matplotlib.figure.Figure at 0x7f8755d294a8>"
      ]
     },
     "metadata": {},
     "output_type": "display_data"
    },
    {
     "name": "stdout",
     "output_type": "stream",
     "text": [
      "0.204591549094 1.995029269046062e-05\n"
     ]
    }
   ],
   "source": [
    "plt.scatter(df['wage'], df['exper'])\n",
    "plt.title('Nuage de points entre wage et exper')\n",
    "plt.xlabel('Wage')\n",
    "plt.ylabel('Exper')\n",
    "plt.show()\n",
    "\n",
    "corr, pvalue =ms.spearmanr(df['wage'], df['exper'])\n",
    "print(corr, pvalue)"
   ]
  },
  {
   "cell_type": "markdown",
   "metadata": {
    "deletable": true,
    "editable": true
   },
   "source": [
    "Nous voyons qu'il y'a globalement une relation linéaire croissante entre l'expérience et le salaire, en revanche nous observons un effectif de trés hauts salaires indépendant de l'expérience.\n",
    "Il y a un léger effet ceteris paribus sur ce couple de variables, nous observons une corélation de 0.2 significative."
   ]
  },
  {
   "cell_type": "code",
   "execution_count": 282,
   "metadata": {
    "collapsed": false,
    "deletable": true,
    "editable": true
   },
   "outputs": [
    {
     "data": {
      "image/png": "[encoded data removed]",
      "text/plain": [
       "<matplotlib.figure.Figure at 0x7f8755864e48>"
      ]
     },
     "metadata": {},
     "output_type": "display_data"
    },
    {
     "name": "stdout",
     "output_type": "stream",
     "text": [
      "0.116329267902 0.016049839999148826\n"
     ]
    }
   ],
   "source": [
    "plt.scatter(df['wage'], df['fatheduc'])\n",
    "plt.title('Nuage de points entre wage et Fatheduc')\n",
    "plt.xlabel('Wage')\n",
    "plt.ylabel('Fatheduc')\n",
    "plt.show()\n",
    "corr, pvalue =ms.spearmanr(df['wage'], df['fatheduc'])\n",
    "print(corr, pvalue)"
   ]
  },
  {
   "cell_type": "markdown",
   "metadata": {
    "deletable": true,
    "editable": true
   },
   "source": [
    "Nous observons que le salaire est relativement indépendant du niveau d'éducation du père.\n",
    "Il n'y a pas d'effet ceteris paribus, la corélation est très faible et non significative à 1%."
   ]
  },
  {
   "cell_type": "markdown",
   "metadata": {
    "deletable": true,
    "editable": true
   },
   "source": [
    "### 6. Quelle est l'hypothèse fondamentale qui garantit des estimateurs non biaisés ? Expliquer le biais de variable omise"
   ]
  },
  {
   "cell_type": "markdown",
   "metadata": {
    "deletable": true,
    "editable": true
   },
   "source": [
    "L'hypothèse fondamentale est que les variables explicatives ne sont pas corélées au résidu. Si l'on a une variable omise, alors elle est corrélée avec le résultat et la régression des MCO est biaisée."
   ]
  },
  {
   "cell_type": "markdown",
   "metadata": {
    "deletable": true,
    "editable": true
   },
   "source": [
    "### 7. Faire la régression de wage en utilisant les variables explicatives une constante, city, educ, exper, nwifeinc, kidslt6, kidsgt6. Commentez l'histogramme des résidus."
   ]
  },
  {
   "cell_type": "code",
   "execution_count": 283,
   "metadata": {
    "collapsed": false,
    "deletable": true,
    "editable": true
   },
   "outputs": [
    {
     "name": "stdout",
     "output_type": "stream",
     "text": [
      "(428, 23)\n",
      "   const  city  educ  exper   nwifeinc  kidslt6  kidsge6\n",
      "0    1.0     0    12     14  10.910060        1        0\n",
      "1    1.0     1    12      5  19.499980        0        2\n",
      "2    1.0     0    12     15  12.039910        1        3\n",
      "3    1.0     0    12      6   6.799996        0        3\n",
      "4    1.0     1    14      7  20.100060        1        2\n"
     ]
    }
   ],
   "source": [
    "const = pd.DataFrame(np.ones(428))\n",
    "print(df.shape)\n",
    "X = pd.concat([const,df[['city','educ','exper','nwifeinc','kidslt6','kidsge6']]], ignore_index=True, axis=1)\n",
    "X.columns = ['const','city','educ','exper','nwifeinc','kidslt6','kidsge6']\n",
    "y = df['wage']\n",
    "print(X.head())"
   ]
  },
  {
   "cell_type": "code",
   "execution_count": 284,
   "metadata": {
    "collapsed": false,
    "deletable": true,
    "editable": true
   },
   "outputs": [
    {
     "name": "stdout",
     "output_type": "stream",
     "text": [
      "[('const', -2.403453991547134), ('city', 0.36975202950519659), ('educ', 0.46004770125863242), ('exper', 0.023819947951075317), ('nwifeinc', 0.015244793576326351), ('kidslt6', 0.036173191389278325), ('kidsge6', -0.061890909685711731)]\n"
     ]
    }
   ],
   "source": [
    "B = np.dot(np.dot(np.linalg.inv(np.dot(X.T, X)),X.T),y)\n",
    "print(list(zip(X.columns,B)))"
   ]
  },
  {
   "cell_type": "code",
   "execution_count": 285,
   "metadata": {
    "collapsed": false,
    "deletable": true,
    "editable": true
   },
   "outputs": [
    {
     "data": {
      "image/png": "[encoded data removed]",
      "text/plain": [
       "<matplotlib.figure.Figure at 0x7f87554e2518>"
      ]
     },
     "metadata": {},
     "output_type": "display_data"
    }
   ],
   "source": [
    "y = y.reshape(428,1)\n",
    "res =  np.subtract(y, np.dot(B.reshape(1,-1),X.T).T)\n",
    "plt.hist(res)\n",
    "plt.title('Résidus avec Wage')\n",
    "plt.show()"
   ]
  },
  {
   "cell_type": "markdown",
   "metadata": {
    "deletable": true,
    "editable": true
   },
   "source": [
    "### 8. Faire la régression de lwage sur les variables (une constante, city, educ, exper, nwifeinc, kidslt6, kidsgt6). Comparer l’histogramme obtenu à celui de la question 7.\n",
    "\n"
   ]
  },
  {
   "cell_type": "code",
   "execution_count": 286,
   "metadata": {
    "collapsed": false,
    "deletable": true,
    "editable": true
   },
   "outputs": [
    {
     "name": "stdout",
     "output_type": "stream",
     "text": [
      "(428, 23)\n",
      "   const  city  educ  exper   nwifeinc  kidslt6  kidsge6\n",
      "0    1.0     0    12     14  10.910060        1        0\n",
      "1    1.0     1    12      5  19.499980        0        2\n",
      "2    1.0     0    12     15  12.039910        1        3\n",
      "3    1.0     0    12      6   6.799996        0        3\n",
      "4    1.0     1    14      7  20.100060        1        2\n"
     ]
    }
   ],
   "source": [
    "const = pd.DataFrame(np.ones(428))\n",
    "print(df.shape)\n",
    "X = pd.concat([const,df[['city','educ','exper','nwifeinc','kidslt6','kidsge6']]], ignore_index=True, axis=1)\n",
    "X.columns = ['const','city','educ','exper','nwifeinc','kidslt6','kidsge6']\n",
    "#X = X.astype(float)\n",
    "y = df['logwage']\n",
    "print(X.head())"
   ]
  },
  {
   "cell_type": "code",
   "execution_count": 287,
   "metadata": {
    "collapsed": false,
    "deletable": true,
    "editable": true
   },
   "outputs": [
    {
     "name": "stdout",
     "output_type": "stream",
     "text": [
      "[('const', -0.39897509972710304), ('city', 0.035267892741029108), ('educ', 0.10224753616543258), ('exper', 0.01548787080672181), ('nwifeinc', 0.0048826964456007323), ('kidslt6', -0.045302857106304439), ('kidsge6', -0.011703505700940149)]\n"
     ]
    }
   ],
   "source": [
    "B = np.dot(np.dot(np.linalg.inv(np.dot(X.T, X)),X.T),y)\n",
    "print(list(zip(X.columns,B)))"
   ]
  },
  {
   "cell_type": "code",
   "execution_count": 288,
   "metadata": {
    "collapsed": false,
    "deletable": true,
    "editable": true
   },
   "outputs": [
    {
     "data": {
      "image/png": "[encoded data removed]",
      "text/plain": [
       "<matplotlib.figure.Figure at 0x7f8758e53be0>"
      ]
     },
     "metadata": {},
     "output_type": "display_data"
    }
   ],
   "source": [
    "y = y.reshape(428,1)\n",
    "res =  np.subtract(y, np.dot(B.reshape(1,-1),X.T).T)\n",
    "plt.hist(res)\n",
    "plt.title('Résidus avec logWage')\n",
    "plt.show()"
   ]
  },
  {
   "cell_type": "markdown",
   "metadata": {
    "deletable": true,
    "editable": true
   },
   "source": [
    "En passant les salaires au logarithme:\n",
    "<ul>\n",
    "<li>on observe la perte de la queue de distribution (la \"skewness\" alias le coefficient de dissymétrie, devrait donc se rapprocher de zéro en valeur absolue - se rapprocher donc de la symétrie.)</li>\n",
    "<li>On observe aussi un aplatissement de la cloche (i.e. que le kurtosis est plus faible)</li>\n",
    "</ul>"
   ]
  },
  {
   "cell_type": "markdown",
   "metadata": {
    "deletable": true,
    "editable": true
   },
   "source": [
    "### 9. Tester l'hypothèse de non significativité de exper avec un seuil de significativité de 1%, 5% et 10% (test alternatif des deux côtés). Commentez les p-values."
   ]
  },
  {
   "cell_type": "markdown",
   "metadata": {
    "deletable": true,
    "editable": true
   },
   "source": [
    "On a 421 degrés de liberté (428 observations - 6 variables explicative - 1 constante)<br>\n",
    "H0 : la variable 'exper' n'est pas significative"
   ]
  },
  {
   "cell_type": "code",
   "execution_count": 289,
   "metadata": {
    "collapsed": false,
    "deletable": true,
    "editable": true
   },
   "outputs": [
    {
     "name": "stdout",
     "output_type": "stream",
     "text": [
      "B[exper] = 0.0154878708067\n",
      "student[exper] = 3.45171805756\n",
      "\n",
      "student = [-1.92694611  0.50254687  6.77056114  3.45171806  1.46595174 -0.53105217\n",
      " -0.43435772]\n"
     ]
    }
   ],
   "source": [
    "# écart-type du Beta estimé de la variable 'exper'\n",
    "sigma = res.T.dot(res) / 421\n",
    "# std_dev sur toutes les variables explicatives\n",
    "std_dev = np.sqrt(np.diag(sigma[0][0] * np.linalg.inv(X.T.dot(X))))\n",
    "student = B / std_dev\n",
    "print('B[exper] =', B[3])\n",
    "print('student[exper] =', student[3])\n",
    "print('\\nstudent =', student)"
   ]
  },
  {
   "cell_type": "code",
   "execution_count": 290,
   "metadata": {
    "collapsed": false,
    "deletable": true,
    "editable": true
   },
   "outputs": [
    {
     "name": "stdout",
     "output_type": "stream",
     "text": [
      "\n",
      "Student, n=421, p<alpha=90%   >>>>> t_alpha / 2 = 2.33523789381\n",
      "Student, n=421, p<alpha=10%  >>>>> t_alpha / 2 = -2.33523789381\n",
      "\n",
      "Student, n=421, p<alpha=95%  >>>>> t_alpha / 2 = 2.58755757305\n",
      "Student, n=421, p<alpha=5%  >>>>> t_alpha / 2 = -2.58755757305\n",
      "\n",
      "Student, n=421, p<alpha=99%  >>>>> t_alpha / 2 = 3.10970287446\n",
      "Student, n=421, p<alpha=1%  >>>>> t_alpha / 2 = -3.10970287446\n"
     ]
    }
   ],
   "source": [
    "print('\\nStudent, n=421, p<alpha=90%   >>>>> t_alpha / 2 =', stats.t.ppf(1-0.01, 421))\n",
    "print('Student, n=421, p<alpha=10%  >>>>> t_alpha / 2 =', stats.t.ppf(0.01, 421))\n",
    "\n",
    "print('\\nStudent, n=421, p<alpha=95%  >>>>> t_alpha / 2 =', stats.t.ppf(1-0.005, 421))\n",
    "print('Student, n=421, p<alpha=5%  >>>>> t_alpha / 2 =', stats.t.ppf(0.005, 421))\n",
    "\n",
    "print('\\nStudent, n=421, p<alpha=99%  >>>>> t_alpha / 2 =', stats.t.ppf(1-0.001, 421))\n",
    "print('Student, n=421, p<alpha=1%  >>>>> t_alpha / 2 =', stats.t.ppf(0.001, 421))"
   ]
  },
  {
   "cell_type": "code",
   "execution_count": 291,
   "metadata": {
    "collapsed": false,
    "deletable": true,
    "editable": true
   },
   "outputs": [
    {
     "name": "stdout",
     "output_type": "stream",
     "text": [
      "0.000613365572396\n"
     ]
    }
   ],
   "source": [
    "pval = stats.t.sf(np.abs(student[3]), 421)*2  # two-sided pvalue = Proba(abs(student)>student)\n",
    "print(pval)"
   ]
  },
  {
   "cell_type": "markdown",
   "metadata": {
    "deletable": true,
    "editable": true
   },
   "source": [
    "La p-value très inférieure à 1% nous permet de dire que l'on rejette l'hypothèse H0 au risque 1%. Le coefficient n'est donc pas nul au risque 1%."
   ]
  },
  {
   "cell_type": "markdown",
   "metadata": {
    "deletable": true,
    "editable": true
   },
   "source": [
    "### 10. Tester l’hypothèse que le coefficient associé à educ est égal à 10% avec un seuil de significativité de 5% (test à alternatif des deux côtés)"
   ]
  },
  {
   "cell_type": "code",
   "execution_count": 292,
   "metadata": {
    "collapsed": false,
    "deletable": true,
    "editable": true
   },
   "outputs": [
    {
     "name": "stdout",
     "output_type": "stream",
     "text": [
      "stat_educ = 0.000984593652241\n",
      "pval_educ = 4.32454382816e-11\n"
     ]
    }
   ],
   "source": [
    "stat_educ = (B[2] - 0.1) / np.std(X['educ'])\n",
    "print(\"stat_educ =\", stat_educ)\n",
    "pval_educ = stats.t.sf(np.abs(student[2]), 421)*2  # two-sided pvalue = Proba(abs(student)>student)\n",
    "print(\"pval_educ =\", pval_educ)"
   ]
  },
  {
   "cell_type": "markdown",
   "metadata": {
    "deletable": true,
    "editable": true
   },
   "source": [
    "La p-value est inférieure au seuil significativité à 5% donc on rejette l'hypothèse au risque 5%."
   ]
  },
  {
   "cell_type": "markdown",
   "metadata": {
    "deletable": true,
    "editable": true
   },
   "source": [
    "### 11. Tester l’hypothèse jointe que le rendement de l’éducation est de 10% et que celui de l’expérience professionnelle est de 5%."
   ]
  },
  {
   "cell_type": "markdown",
   "metadata": {
    "deletable": true,
    "editable": true
   },
   "source": [
    "Modèle contraint : H0 : B1 = 0 et B2 = 0 <br>\n",
    "Modèle non contraint : H1 : B1 <> 0 et B2 <> 0 (I.E. B1 peut être égal à 10 % et B2 peut être égale à 5 %)"
   ]
  },
  {
   "cell_type": "code",
   "execution_count": 293,
   "metadata": {
    "collapsed": false,
    "deletable": true,
    "editable": true
   },
   "outputs": [
    {
     "name": "stdout",
     "output_type": "stream",
     "text": [
      "   const  city   nwifeinc  kidslt6  kidsge6\n",
      "0    1.0     0  10.910060        1        0\n",
      "1    1.0     1  19.499980        0        2\n",
      "2    1.0     0  12.039910        1        3\n",
      "3    1.0     0   6.799996        0        3\n",
      "4    1.0     1  20.100060        1        2\n",
      "ssr0 = 214.779668493\n"
     ]
    }
   ],
   "source": [
    "# Modèle contraint c'est à dire B_educ = 0 et B_exper = 0\n",
    "const = pd.DataFrame(np.ones(428))\n",
    "X_joint = pd.concat([const,df[['city','nwifeinc','kidslt6','kidsge6']]], ignore_index=True, axis=1)\n",
    "X_joint.columns = ['const','city','nwifeinc','kidslt6','kidsge6']\n",
    "y = df['logwage']\n",
    "print(X_joint.head())\n",
    "\n",
    "B_joint = np.dot(np.dot(np.linalg.inv(np.dot(X_joint.T, X_joint)),X_joint.T),y)\n",
    "res_joint = y - X_joint.dot(B_joint)\n",
    "ssr0 = res_joint.T.dot(res_joint)\n",
    "print(\"ssr0 =\", ssr0)"
   ]
  },
  {
   "cell_type": "code",
   "execution_count": 294,
   "metadata": {
    "collapsed": false,
    "deletable": true,
    "editable": true
   },
   "outputs": [
    {
     "name": "stdout",
     "output_type": "stream",
     "text": [
      "ssr1 = 188.58997319394953\n",
      "F = 29.2323646224\n",
      "p_value_F = 1.29450352752e-12\n"
     ]
    }
   ],
   "source": [
    "# Modèle non contraint\n",
    "ssr1 = float(res.T.dot(res))\n",
    "print(\"ssr1 =\", ssr1)\n",
    "\n",
    "F = ((ssr0 - ssr1) / ssr1) * (421 / 2) # ((SSR_c - SSR_nc) / SSR_nc) \n",
    "                                     # fois  (DDL_c / (DDL_nc - DDL_c)) \n",
    "print(\"F =\", F)\n",
    "p_value_F = stats.f.sf(F,2,421)\n",
    "print(\"p_value_F =\", p_value_F)\n"
   ]
  },
  {
   "cell_type": "markdown",
   "metadata": {
    "deletable": true,
    "editable": true
   },
   "source": [
    "La P_value est très inférieure à 1%. Nous pouvons donc rejeter H0 au risque 1% et donc ces coefficients sont non nuls et potentiellement égaux à 5% et 10%."
   ]
  },
  {
   "cell_type": "markdown",
   "metadata": {
    "deletable": true,
    "editable": true
   },
   "source": [
    "### 12. De combien augmente le salaire en pourcentage avec 10 années d’expérience ?"
   ]
  },
  {
   "cell_type": "markdown",
   "metadata": {
    "collapsed": true,
    "deletable": true,
    "editable": true
   },
   "source": [
    "Le salaire augmente de 10 * 0.01549 = 15,49 %"
   ]
  },
  {
   "cell_type": "markdown",
   "metadata": {
    "deletable": true,
    "editable": true
   },
   "source": [
    "### 13. Tester l’égalité des coefficients associés aux variables kidsge6 et kidslt6. Interprétez."
   ]
  },
  {
   "cell_type": "markdown",
   "metadata": {
    "deletable": true,
    "editable": true
   },
   "source": [
    "Hypothèse H0 : Bkidsgt6 = Bkidslt6 <br>\n",
    "Hypothèse H1 : Bkidsgt6 <> Bkidlt6"
   ]
  },
  {
   "cell_type": "code",
   "execution_count": 295,
   "metadata": {
    "collapsed": false,
    "deletable": true,
    "editable": true
   },
   "outputs": [
    {
     "name": "stdout",
     "output_type": "stream",
     "text": [
      "[-0.3989751   0.03526789  0.10224754  0.01548787  0.0048827  -0.03359935\n",
      " -0.01170351]\n"
     ]
    }
   ],
   "source": [
    "const = pd.DataFrame(np.ones(428))\n",
    "X_kids6 = X['kidsge6'] + X['kidslt6']\n",
    "X_kids6 = pd.concat([const, df[['city','educ','exper','nwifeinc','kidslt6']], X_kids6]\n",
    "                    , ignore_index=True, axis=1)\n",
    "X_kids6.columns = ['const','city','educ','exper','nwifeinc','kidslt6','kids6ge6 + kidslt6']\n",
    "y = df['logwage']\n",
    "B_kids6 = np.dot(np.dot(np.linalg.inv(np.dot(X_kids6.T, X_kids6)),X_kids6.T),y)\n",
    "print(B_kids6)\n",
    "y = y.reshape(428, 1)"
   ]
  },
  {
   "cell_type": "code",
   "execution_count": 296,
   "metadata": {
    "collapsed": false,
    "deletable": true,
    "editable": true
   },
   "outputs": [
    {
     "name": "stdout",
     "output_type": "stream",
     "text": [
      "Statistique de Student :  [-1.92694611  0.50254687  6.77056114  3.45171806  1.46595174 -0.37174725\n",
      " -0.43435772]\n",
      "P-value du test :  0.710268070738\n"
     ]
    }
   ],
   "source": [
    "res =  np.subtract(y, np.dot(B_kids6.reshape(1,-1),X_kids6.T).T)\n",
    "# écart-type du Beta estimé de la variable 'kids6'\n",
    "sigma = res.T.dot(res) / 421\n",
    "# std_dev sur toutes les variables explicatives\n",
    "std_dev = np.sqrt(np.diag(sigma * np.linalg.inv(X_kids6.T.dot(X_kids6))))\n",
    "student = B_kids6 / std_dev\n",
    "print(\"Statistique de Student : \", student)\n",
    "\n",
    "pval = stats.t.sf(np.abs(student[-2]), 421)*2  # two-sided pvalue = Proba(abs(student)>student)\n",
    "print(\"P-value du test : \", pval)\n"
   ]
  },
  {
   "cell_type": "markdown",
   "metadata": {
    "deletable": true,
    "editable": true
   },
   "source": [
    "Nous ne pouvons pas rejeter l'hypothèse d'égalité des coefficients kidslt6 kidsgt6."
   ]
  },
  {
   "cell_type": "markdown",
   "metadata": {
    "deletable": true,
    "editable": true
   },
   "source": [
    "### 14. En utilisant le modèle de la question 7, faire le test d'hétéroscédasticité de forme linéaire."
   ]
  },
  {
   "cell_type": "markdown",
   "metadata": {
    "deletable": true,
    "editable": true
   },
   "source": [
    "Hypothèse H0: Hétéroscédasticité, les coéfficients Beta sont non nuls, modèle non-contraint.<br>\n",
    "Hypothèse H1 : Homoscédasticité, les coéfficents Beta sont nuls, modèle contraint."
   ]
  },
  {
   "cell_type": "code",
   "execution_count": 297,
   "metadata": {
    "collapsed": false,
    "deletable": true,
    "editable": true
   },
   "outputs": [
    {
     "name": "stdout",
     "output_type": "stream",
     "text": [
      "   const  city  educ  exper   nwifeinc  kidslt6  kidsge6\n",
      "0    1.0     0    12     14  10.910060        1        0\n",
      "1    1.0     1    12      5  19.499980        0        2\n",
      "2    1.0     0    12     15  12.039910        1        3\n",
      "3    1.0     0    12      6   6.799996        0        3\n",
      "4    1.0     1    14      7  20.100060        1        2\n"
     ]
    }
   ],
   "source": [
    "# Nous repartons du modèle de la question 7\n",
    "const = pd.DataFrame(np.ones(428))\n",
    "X = pd.concat([const,df[['city','educ','exper','nwifeinc','kidslt6','kidsge6']]], ignore_index=True, axis=1)\n",
    "X.columns = ['const','city','educ','exper','nwifeinc','kidslt6','kidsge6']\n",
    "y = df['wage']\n",
    "print(X.head())"
   ]
  },
  {
   "cell_type": "code",
   "execution_count": 298,
   "metadata": {
    "collapsed": false,
    "deletable": true,
    "editable": true,
    "scrolled": false
   },
   "outputs": [
    {
     "name": "stdout",
     "output_type": "stream",
     "text": [
      "(7,)\n",
      "[('const', -2.403453991547134), ('city', 0.36975202950519659), ('educ', 0.46004770125863242), ('exper', 0.023819947951075317), ('nwifeinc', 0.015244793576326351), ('kidslt6', 0.036173191389278325), ('kidsge6', -0.061890909685711731)]\n",
      "(428,)\n"
     ]
    }
   ],
   "source": [
    "# Calcul du résidus\n",
    "B = np.dot(np.dot(np.linalg.inv(np.dot(X.T, X)),X.T),y)\n",
    "print(B.shape)\n",
    "print(list(zip(X.columns,B)))\n",
    "res =  y - np.dot(X, B)\n",
    "print(res.shape) "
   ]
  },
  {
   "cell_type": "code",
   "execution_count": 299,
   "metadata": {
    "collapsed": false,
    "deletable": true,
    "editable": true,
    "scrolled": false
   },
   "outputs": [
    {
     "name": "stdout",
     "output_type": "stream",
     "text": [
      "(428,)\n"
     ]
    }
   ],
   "source": [
    "# Test d'hétéroscedasticité à partir du carré des résidus\n",
    "u_carre = res**2 # Carrés des résidus du modèle contraint\n",
    "y = u_carre\n",
    "print(y.shape)"
   ]
  },
  {
   "cell_type": "code",
   "execution_count": 300,
   "metadata": {
    "collapsed": false,
    "deletable": true,
    "editable": true
   },
   "outputs": [
    {
     "name": "stdout",
     "output_type": "stream",
     "text": [
      "(7,)\n",
      "(428, 7)\n",
      "ssr0 = 756183.49603\n",
      "(428, 1)\n",
      "ssr1 = 773347.081345\n",
      "F = 1.59261816202\n",
      "p_value_F = 0.135609964891\n"
     ]
    }
   ],
   "source": [
    "## Test de Fisher\n",
    "\n",
    "# Modèle non-contraint\n",
    "B = np.dot(np.dot(np.linalg.inv(np.dot(X.T, X)),X.T),y)\n",
    "print(B.shape)\n",
    "print(X.shape)\n",
    "res =  y - X.dot(B)\n",
    "ssr0 = res.T.dot(res)\n",
    "print(\"ssr0 =\", ssr0)\n",
    "\n",
    "# Modèle contraint\n",
    "X = const\n",
    "print(X.shape)\n",
    "B = np.dot(np.dot(np.linalg.inv(np.dot(X.T, X)),X.T),y)\n",
    "res =  np.subtract(y, np.dot(B, X.T).T)\n",
    "ssr1 = res.T.dot(res)\n",
    "print(\"ssr1 =\", ssr1)\n",
    "\n",
    "F = ((ssr1 - ssr0) / ssr0) * (421 / 6) # ((SSR non contraint - SSR contraint) / SSR contraint) \n",
    "                                     # fois  (DDL non contraint / (DDLcontraint - DDL non contraint)) \n",
    "print(\"F =\", F)\n",
    "p_value_F = stats.f.sf(F,7,428)\n",
    "print(\"p_value_F =\", p_value_F)"
   ]
  },
  {
   "cell_type": "markdown",
   "metadata": {
    "deletable": true,
    "editable": true
   },
   "source": [
    "la p-value est supérieure à 5%, on ne peut pas rejeter l'hypothèse d'hétéroscédasticité au risque 5%.<br>\n",
    "<br>\n",
    "Pour corriger le problème par rapport à la variable la plus importante, on va centrer-réduire les Beta pour y trouver le plus gros coefficient.<br>"
   ]
  },
  {
   "cell_type": "markdown",
   "metadata": {
    "deletable": true,
    "editable": true
   },
   "source": [
    "###  Corriger le problème par rapport à la variable la plus importante en utilisant la méthode des MCG. Comparer les écarts-types des coefficients estimés avec ceux obtenus à la question 7. Commenter."
   ]
  },
  {
   "cell_type": "code",
   "execution_count": 304,
   "metadata": {
    "collapsed": false,
    "deletable": true,
    "editable": true,
    "scrolled": false
   },
   "outputs": [
    {
     "name": "stdout",
     "output_type": "stream",
     "text": [
      "\n",
      "X_std.values.shape\n",
      " (428,)\n",
      "\n",
      "X.head()\n",
      "    const  city  educ  exper   nwifeinc  kidslt6  kidsge6\n",
      "0    1.0     0    12     14  10.910060        1        0\n",
      "1    1.0     1    12      5  19.499980        0        2\n",
      "2    1.0     0    12     15  12.039910        1        3\n",
      "3    1.0     0    12      6   6.799996        0        3\n",
      "4    1.0     1    14      7  20.100060        1        2\n",
      "\n",
      "X.head()\n",
      "    const  city  educ  exper   nwifeinc  kidslt6  kidsge6\n",
      "0    1.0     0    12     14  10.910060        1        0\n",
      "1    1.0     1    12      5  19.499980        0        2\n",
      "2    1.0     0    12     15  12.039910        1        3\n",
      "3    1.0     0    12      6   6.799996        0        3\n",
      "4    1.0     1    14      7  20.100060        1        2\n",
      "\n",
      "B_norm\n",
      " [(-2.403453991547134, 'const'), (0.36975202950519659, 'city'), (0.46004770125863242, 'educ'), (0.023819947951075317, 'exper'), (0.015244793576326351, 'nwifeinc'), (0.036173191389278325, 'kidslt6'), (-0.061890909685711731, 'kidsge6')]\n",
      "\n",
      "La variable la plus importante est la 2e, celle de l'éducation : 0.460047701259\n",
      "\n",
      "std_dev :\n",
      " [ 0.96349591  0.32657023  0.07027516  0.02087998  0.01549936  0.39697399\n",
      "  0.12538399]\n",
      "\n",
      "P-value des coefficients : \n",
      " [  1.29953814e-02   2.58182952e-01   1.71822053e-10   2.54600334e-01\n",
      "   3.25889025e-01   9.27438737e-01   6.21838370e-01]\n"
     ]
    }
   ],
   "source": [
    "# variables initiales\n",
    "const = pd.DataFrame(np.ones(428))\n",
    "X_std = np.std(X, axis=1)\n",
    "# Normalisons X\n",
    "X = pd.DataFrame(X.values - X.mean().values, columns=X.columns)\n",
    "X = X.div(X_std,axis='rows')\n",
    "\n",
    "X = pd.concat([const,df[['city','educ','exper','nwifeinc','kidslt6','kidsge6']]], ignore_index=True, axis=1)\n",
    "X.columns = ['const','city','educ','exper','nwifeinc','kidslt6','kidsge6']\n",
    "y = df['wage']\n",
    "\n",
    "print('\\nX_std.values.shape\\n', X_std.values.shape)\n",
    "print('\\nX.head()\\n', X.head())\n",
    "print('\\nX.head()\\n', X.head())\n",
    "\n",
    "# normalisons y\n",
    "\n",
    "# calcul de Beta pour repérer celui qui est le plus important\n",
    "B_norm = np.dot(np.dot(np.linalg.inv(np.dot(X.T, X)),X.T),y)\n",
    "\n",
    "print('\\nB_norm\\n', list(zip(B_norm, X.columns)))\n",
    "print('\\nLa variable la plus importante est la 2e, celle de l\\'éducation : ' + str(B_norm[2]))\n",
    "\n",
    "# Il faut maintenant corriger le X en le standardisant par la déviation standard (= écart-type) de l'éducation.\n",
    "# car on suppose que c'est la plus forte variable qui apporte le plus de variabilité de la variance (i.e. d'hétéroscédasticité)\n",
    "X_homo = X / np.std(X['educ'])\n",
    "#print('\\nX_homo\\n', X_homo)\n",
    "\n",
    "y_homo = df['wage'] / np.std(X['educ'])\n",
    "\n",
    "B_homo = np.dot(np.dot(np.linalg.inv(np.dot(X_homo.T, X_homo)),X_homo.T),y_homo)\n",
    "res_homo = y_homo - X_homo.dot(B_homo)\n",
    "\n",
    "# on regarde maintenant l'écart type des résidus\n",
    "sigma = res_homo.T.dot(res_homo) / 421\n",
    "# std_dev sur toutes les variables explicatives\n",
    "std_dev = np.sqrt(np.diag(sigma * np.linalg.inv(X_homo.T.dot(X_homo))))\n",
    "\n",
    "print('\\nstd_dev :\\n', std_dev)\n",
    "\n",
    "student = B_homo / std_dev\n",
    "pval = stats.t.sf(np.abs(student), 421)*2  # two-sided pvalue = Proba(abs(student)>student)\n",
    "print(\"\\nP-value des coefficients : \\n\",pval)"
   ]
  },
  {
   "cell_type": "markdown",
   "metadata": {
    "deletable": true,
    "editable": true
   },
   "source": [
    "La P Value nous permet de rejeter l'hypothèse d'hétéroscédasticité au risque 5%"
   ]
  },
  {
   "cell_type": "code",
   "execution_count": 268,
   "metadata": {
    "collapsed": false,
    "deletable": true,
    "editable": true
   },
   "outputs": [
    {
     "name": "stdout",
     "output_type": "stream",
     "text": [
      "\n",
      "std_dev :\n",
      " [ 0.96349591  0.32657023  0.07027516  0.02087998  0.01549936  0.39697399\n",
      "  0.12538399]\n"
     ]
    }
   ],
   "source": [
    "# on avait pour la question 7\n",
    "\n",
    "X = pd.concat([const,df[['city','educ','exper','nwifeinc','kidslt6','kidsge6']]], ignore_index=True, axis=1)\n",
    "X.columns = ['const','city','educ','exper','nwifeinc','kidslt6','kidsge6']\n",
    "y = df['wage']\n",
    "\n",
    "B = np.dot(np.dot(np.linalg.inv(np.dot(X.T, X)),X.T),y)\n",
    "res = y - X.dot(B)\n",
    "\n",
    "# on regarde maintenant l'écart type des résidus\n",
    "sigma = res.T.dot(res) / 421\n",
    "# std_dev sur toutes les variables explicatives\n",
    "std_dev = np.sqrt(np.diag(sigma * np.linalg.inv(X.T.dot(X))))\n",
    "\n",
    "print('\\nstd_dev :\\n', std_dev)"
   ]
  },
  {
   "cell_type": "markdown",
   "metadata": {
    "deletable": true,
    "editable": true
   },
   "source": [
    "La variance des Beta des variables explicatives corrigées est supérieure à celle d'origine.<br>\n",
    "On a donc reporté la variance des résidus sur les variables explicatives."
   ]
  },
  {
   "cell_type": "markdown",
   "metadata": {
    "deletable": true,
    "editable": true
   },
   "source": [
    "### 15. Tester le changement de structure de la question 8 entre les femmes qui ont plus de 43 ans et les autres : test sur l'ensemble des coefficients. Refaire le test avec 3 groupes (mutuellement exclusifs) : les femmes de moins de 30 ans, entre 30 et 43 ans, plus de 43 ans."
   ]
  },
  {
   "cell_type": "code",
   "execution_count": 32,
   "metadata": {
    "collapsed": false,
    "deletable": true,
    "editable": true
   },
   "outputs": [
    {
     "name": "stdout",
     "output_type": "stream",
     "text": [
      "[('const', -0.39897509972710304), ('city', 0.035267892741029108), ('educ', 0.10224753616543258), ('exper', 0.01548787080672181), ('nwifeinc', 0.0048826964456007323), ('kidslt6', -0.045302857106304439), ('kidsge6', -0.011703505700940149)]\n"
     ]
    }
   ],
   "source": [
    "# on fait la régression avec les mêmes variables que dans la question 8\n",
    "const = pd.DataFrame(np.ones(428))\n",
    "X = pd.concat([const,df[['city','educ','exper','nwifeinc','kidslt6','kidsge6']]], ignore_index=True, axis=1)\n",
    "X.columns = ['const','city','educ','exper','nwifeinc','kidslt6','kidsge6']\n",
    "y = df['logwage']\n",
    "\n",
    "B = np.dot(np.dot(np.linalg.inv(np.dot(X.T, X)),X.T),y)\n",
    "print(list(zip(X.columns,B)))\n",
    "\n",
    "y = y.reshape(428,1)\n",
    "res =  np.subtract(y, np.dot(B.reshape(1,-1),X.T).T)"
   ]
  },
  {
   "cell_type": "code",
   "execution_count": 33,
   "metadata": {
    "collapsed": false,
    "deletable": true,
    "editable": true,
    "scrolled": false
   },
   "outputs": [
    {
     "name": "stdout",
     "output_type": "stream",
     "text": [
      "(186, 24)\n",
      "[('const', -0.3232004115068165), ('city', -0.018840475129435277), ('educ', 0.08526538418697252), ('exper', 0.017837452510969319), ('nwifeinc', 0.0092695548966413577), ('kidslt6', -0.0091232338776318089), ('kidsge6', -0.024883088543249703)]\n"
     ]
    }
   ],
   "source": [
    "# on refait cette régression avec le 1er sous-groupe (>43 ans)\n",
    "\n",
    "const = pd.DataFrame(np.ones(186))\n",
    "df_sup43 = df[df['age']>43]\n",
    "df_sup43.reset_index(inplace=True)\n",
    "print(df_sup43.shape)\n",
    "X_sup43 = pd.concat([const,df_sup43[['city','educ','exper','nwifeinc','kidslt6','kidsge6']]], ignore_index=True, axis=1)\n",
    "X_sup43.columns = ['const','city','educ','exper','nwifeinc','kidslt6','kidsge6']\n",
    "y_sup43 = df_sup43['logwage']\n",
    "B_sup43 = np.dot(np.dot(np.linalg.inv(np.dot(X_sup43.T, X_sup43)),X_sup43.T),y_sup43)\n",
    "print(list(zip(X_sup43.columns,B_sup43)))\n",
    "res_sup43 =  np.subtract(y_sup43, X_sup43.dot(B_sup43))"
   ]
  },
  {
   "cell_type": "code",
   "execution_count": 34,
   "metadata": {
    "collapsed": false,
    "deletable": true,
    "editable": true
   },
   "outputs": [
    {
     "name": "stdout",
     "output_type": "stream",
     "text": [
      "(242, 24)\n",
      "[('const', -0.54117701632702442), ('city', 0.084997662174606775), ('educ', 0.11672533500572489), ('exper', 0.020163177502732235), ('nwifeinc', 0.0025589331430085393), ('kidslt6', -0.093295321473299178), ('kidsge6', -0.023322836691759094)]\n"
     ]
    }
   ],
   "source": [
    "# on refait cette régression avec le 2e sous-groupe (<= 43 ans)\n",
    "\n",
    "const = pd.DataFrame(np.ones(242))\n",
    "df_inf43 = df[df['age']<= 43]\n",
    "df_inf43.reset_index(inplace=True)\n",
    "print(df_inf43.shape)\n",
    "X_inf43 = pd.concat([const,df_inf43[['city','educ','exper','nwifeinc','kidslt6','kidsge6']]], ignore_index=True, axis=1)\n",
    "X_inf43.columns = ['const','city','educ','exper','nwifeinc','kidslt6','kidsge6']\n",
    "y_inf43 = df_inf43['logwage']\n",
    "B_inf43 = np.dot(np.dot(np.linalg.inv(np.dot(X_inf43.T, X_inf43)),X_inf43.T),y_inf43)\n",
    "print(list(zip(X_inf43.columns,B_inf43)))\n",
    "res_inf43 =  np.subtract(y_inf43, X_inf43.dot(B_inf43))"
   ]
  },
  {
   "cell_type": "code",
   "execution_count": 35,
   "metadata": {
    "collapsed": false,
    "deletable": true,
    "editable": true
   },
   "outputs": [
    {
     "name": "stdout",
     "output_type": "stream",
     "text": [
      "(7, 1)\n",
      "(428, 7)\n",
      "ssr = 188.589973194\n",
      "ssr1 = 75.3481636807\n",
      "ssr2 = 110.64408874\n",
      "F = 0.826037787107\n",
      "p_value_F = 0.566015190003\n"
     ]
    }
   ],
   "source": [
    "## Test de Fisher\n",
    "\n",
    "# Modèle non-contraint: régression classique\n",
    "B = np.dot(np.dot(np.linalg.inv(np.dot(X.T, X)),X.T),y)\n",
    "print(B.shape)\n",
    "print(X.shape)\n",
    "res =  y - X.dot(B)\n",
    "ssr = res.T.dot(res)\n",
    "print(\"ssr =\", ssr[0][0])\n",
    "\n",
    "# Modèle contraint : on fait la somme des carrés des résidus pour les deux sous-régressions\n",
    "\n",
    "ssr1 = res_sup43.T.dot(res_sup43)\n",
    "print(\"ssr1 =\", ssr1)\n",
    "\n",
    "ssr2 = res_inf43.T.dot(res_inf43)\n",
    "print(\"ssr2 =\", ssr2)\n",
    "\n",
    "F = ((ssr - (ssr1 + ssr2)) / 7) / ((ssr1 + ssr2) / ((428 - 2 * 7)))\n",
    "print(\"F =\", F[0][0])\n",
    "p_value_F = stats.f.sf(F,7,428)\n",
    "print(\"p_value_F =\", p_value_F[0][0])"
   ]
  },
  {
   "cell_type": "markdown",
   "metadata": {
    "deletable": true,
    "editable": true
   },
   "source": [
    "On ne peut pas rejeter H0 au risque 5% <br>\n",
    "Le delta entre les deux modèles est donc non nuls a priori.<br>\n",
    "C'est-à-dire qu'il y a donc potentiellement un changement de structure sur l'âge.<br>"
   ]
  },
  {
   "cell_type": "code",
   "execution_count": 36,
   "metadata": {
    "collapsed": true,
    "deletable": true,
    "editable": true
   },
   "outputs": [],
   "source": [
    "# on teste maintenant la partition en 3 catégories Vs les 2 catégories précédentes\n",
    "ssr = ssr1 + ssr2"
   ]
  },
  {
   "cell_type": "code",
   "execution_count": 37,
   "metadata": {
    "collapsed": false,
    "deletable": true,
    "editable": true
   },
   "outputs": [
    {
     "name": "stdout",
     "output_type": "stream",
     "text": [
      "(19, 23)\n",
      "(19, 24)\n",
      "[('const', -2.1113319416911951), ('city', -0.19463445345749836), ('educ', 0.22197278403210588), ('exper', 0.052105024019093032), ('nwifeinc', 0.016097175638518806), ('kidslt6', -0.20868992748898788), ('kidsge6', 0.089800745191328579)]\n"
     ]
    }
   ],
   "source": [
    "# on refait deux régressions pour les moins de 43 ans, pour deux catégories : âge<=30   et   30<âge<43\n",
    "\n",
    "const = pd.DataFrame(np.ones(19))\n",
    "df_inf30 = df[df['age'] <= 30]\n",
    "print(df_inf30.shape)\n",
    "df_inf30.reset_index(inplace=True)\n",
    "print(df_inf30.shape)\n",
    "X_inf30 = pd.concat([const,df_inf30[['city','educ','exper','nwifeinc','kidslt6','kidsge6']]], ignore_index=True, axis=1)\n",
    "X_inf30.columns = ['const','city','educ','exper','nwifeinc','kidslt6','kidsge6']\n",
    "y_inf30 = df_inf30['logwage']\n",
    "B_inf30 = np.dot(np.dot(np.linalg.inv(np.dot(X_inf30.T, X_inf30)),X_inf30.T),y_inf30)\n",
    "print(list(zip(X_inf30.columns,B_inf30)))\n",
    "res_inf30 =  np.subtract(y_inf30, X_inf30.dot(B_inf30))\n"
   ]
  },
  {
   "cell_type": "code",
   "execution_count": 38,
   "metadata": {
    "collapsed": false,
    "deletable": true,
    "editable": true,
    "scrolled": true
   },
   "outputs": [
    {
     "name": "stdout",
     "output_type": "stream",
     "text": [
      "(223, 23)\n",
      "(223, 24)\n",
      "[('const', -0.52452319623396271), ('city', 0.088950017442001289), ('educ', 0.11162650804943405), ('exper', 0.021064202554863104), ('nwifeinc', 0.0028403413687767124), ('kidslt6', -0.089246644306709519), ('kidsge6', -0.013521498579149851)]\n",
      "(223,)\n"
     ]
    }
   ],
   "source": [
    "# avec le sous-groupe d'âge compris entre 30 et 43 ans\n",
    "\n",
    "const = pd.DataFrame(np.ones(223))\n",
    "df_30_43 = df[ (df['age'] <= 43) & (df['age'] > 30)]\n",
    "print(df_30_43.shape)\n",
    "df_30_43.reset_index(inplace=True)\n",
    "print(df_30_43.shape)\n",
    "X_30_43 = pd.concat([const,df_30_43[['city','educ','exper','nwifeinc','kidslt6','kidsge6']]], ignore_index=True, axis=1)\n",
    "X_30_43.columns = ['const','city','educ','exper','nwifeinc','kidslt6','kidsge6']\n",
    "y_30_43 = df_30_43['logwage']\n",
    "B_30_43 = np.dot(np.dot(np.linalg.inv(np.dot(X_30_43.T, X_30_43)),X_30_43.T),y_30_43)\n",
    "#print(y_30_43)\n",
    "#print(X_30_43)\n",
    "print(list(zip(X_30_43.columns,B_30_43)))\n",
    "res_30_43 =  y_30_43 - X_30_43.dot(B_30_43)\n",
    "print(res_30_43.shape)"
   ]
  },
  {
   "cell_type": "code",
   "execution_count": 39,
   "metadata": {
    "collapsed": false,
    "deletable": true,
    "editable": true
   },
   "outputs": [
    {
     "name": "stdout",
     "output_type": "stream",
     "text": [
      "ssr = 185.99225242\n",
      "ssr2_1 = 3.38721490283\n",
      "ssr2_2 = 106.093442568\n",
      "F = 0.36598847323\n",
      "p_value_F = 0.921799163068\n"
     ]
    }
   ],
   "source": [
    "## Test de Fisher\n",
    "\n",
    "# Modèle non-contraint: régression classique\n",
    "# rappel : ssr = ssr1 + ssr2\n",
    "print(\"ssr =\", ssr)\n",
    "\n",
    "# Modèle contraint : on fait la somme des carrés des résidus pour les deux sous-régressions\n",
    "\n",
    "ssr2_1 = res_inf30.T.dot(res_inf30)\n",
    "print(\"ssr2_1 =\", ssr2_1)\n",
    "\n",
    "ssr2_2 = res_30_43.T.dot(res_30_43)\n",
    "print(\"ssr2_2 =\", ssr2_2)\n",
    "\n",
    "F = ((ssr - (ssr1 + ssr2_1 + ssr2_2)) / 7) / ((ssr1 + ssr2_1 + ssr2_2) / ((428 - 3 * 7)))\n",
    "print(\"F =\", F)\n",
    "p_value_F = stats.f.sf(F,7,428)\n",
    "print(\"p_value_F =\", p_value_F)"
   ]
  },
  {
   "cell_type": "markdown",
   "metadata": {
    "deletable": true,
    "editable": true
   },
   "source": [
    "On ne peut donc pas rejeter l'hypothèse de changement de structure en 3 catégories à 92 % par rapport au changement en 2 catégories."
   ]
  },
  {
   "cell_type": "markdown",
   "metadata": {
    "deletable": true,
    "editable": true
   },
   "source": [
    "### 16. A partir de la variable kidslt6, créer un ensemble de variables binaires pour le nombre d’enfants de moins de 6 ans. Refaire la question 8 avec ces variables et en utilisant comme référence les femmes qui ont des enfants de plus de 6 ans. Ces catégories sont-elles mutuellement exclusives ? Interprétez les paramètres associés aux variables binaires. Faire le test de non significativité de l’ensemble des variables binaires."
   ]
  },
  {
   "cell_type": "markdown",
   "metadata": {
    "deletable": true,
    "editable": true
   },
   "source": [
    "### 17. Créer une variable binaire pour les femmes qui ont des enfants de moins de 6 ans. Créer un terme d’interaction entre le nombre d’enfants de moins deux ans et l’éducation. Faire la régression de lwage sur une constante, city, educ, exper, nwifeinc,  et ces deux dernières variables. Faire le test de significativité du terme d’interaction. Interpréter."
   ]
  },
  {
   "cell_type": "markdown",
   "metadata": {
    "deletable": true,
    "editable": true
   },
   "source": [
    "## Séries temporelles"
   ]
  },
  {
   "cell_type": "markdown",
   "metadata": {
    "deletable": true,
    "editable": true
   },
   "source": [
    "### 1. Ouvrir le fichier volat.raw; importer les données sur matlab en recodant les valeurs manquantes en -9999."
   ]
  },
  {
   "cell_type": "code",
   "execution_count": 112,
   "metadata": {
    "collapsed": false,
    "deletable": true,
    "editable": true
   },
   "outputs": [
    {
     "name": "stdout",
     "output_type": "stream",
     "text": [
      "      date  sp500  divyld    i3    ip        pcsp      rsp500         pcip  \\\n",
      "0  1947.01  15.21    4.49  0.38  22.4 -9999.00000 -9999.00000 -9999.000000   \n",
      "1  1947.02  15.80    4.38  0.38  22.5    46.54833    50.92833     5.357163   \n",
      "2  1947.03  15.16    4.61  0.38  22.6   -48.60762   -43.99762     5.333354   \n",
      "3  1947.04  14.60    4.75  0.38  22.5   -44.32714   -39.57714    -5.309754   \n",
      "4  1947.05  14.34    5.05  0.38  22.6   -21.36988   -16.31988     5.333354   \n",
      "\n",
      "      ci3   ci3_1   ci3_2       pcip_1       pcip_2       pcip_3      pcsp_1  \\\n",
      "0 -9999.0 -9999.0 -9999.0 -9999.000000 -9999.000000 -9999.000000 -9999.00000   \n",
      "1     0.0 -9999.0 -9999.0 -9999.000000 -9999.000000 -9999.000000 -9999.00000   \n",
      "2     0.0     0.0 -9999.0     5.357163 -9999.000000 -9999.000000    46.54833   \n",
      "3     0.0     0.0     0.0     5.333354     5.357163 -9999.000000   -48.60762   \n",
      "4     0.0     0.0     0.0    -5.309754     5.333354     5.357163   -44.32714   \n",
      "\n",
      "       pcsp_2      pcsp_3  \n",
      "0 -9999.00000 -9999.00000  \n",
      "1 -9999.00000 -9999.00000  \n",
      "2 -9999.00000 -9999.00000  \n",
      "3    46.54833 -9999.00000  \n",
      "4   -48.60762    46.54833  \n"
     ]
    }
   ],
   "source": [
    "columns = ['date','sp500','divyld','i3','ip','pcsp','rsp500','pcip','ci3','ci3_1','ci3_2','pcip_1','pcip_2','pcip_3',                   \n",
    "'pcsp_1','pcsp_2','pcsp_3']\n",
    "\n",
    "df = pd.read_csv('textfiles/VOLAT.raw', sep='\\s+', names=columns)\n",
    "df = df.copy().replace('.',-9999)\n",
    "df = df.copy().astype(float)\n",
    "print(df.head())\n"
   ]
  },
  {
   "cell_type": "markdown",
   "metadata": {
    "deletable": true,
    "editable": true
   },
   "source": [
    "### 2. Pourquoi doit-on stationnariser les séries ?"
   ]
  },
  {
   "cell_type": "markdown",
   "metadata": {
    "deletable": true,
    "editable": true
   },
   "source": [
    "On doit stationnariser les séries pour que l'on puisse utiliser les hypothèses sous-jacentes à la modélisation en series temporelles : pour application du Théorème de WALD (~Gauss Markov). Les seules séries que l’on sache modéliser sont les séries stationnaires. Les autocorrélations se calculent sur des séries stationnaires, par exemple, et la non-stationnarité n’est pas une notion simple à définir (tout comme la non-indépendance entre variables aléatoires)…..C'est à dire que la série ne suit pas une tendance au cours du temps."
   ]
  },
  {
   "cell_type": "markdown",
   "metadata": {
    "deletable": true,
    "editable": true
   },
   "source": [
    "### 3. Faire le test de racine unitaire de log(sp500), de pcsp de div"
   ]
  },
  {
   "cell_type": "markdown",
   "metadata": {
    "deletable": true,
    "editable": true
   },
   "source": [
    "Tet de Dickey-Fuller : <br>\n",
    "H0 : La série est non-stationnaire ie il y'a une racine unitaire<br>\n",
    "H1 : La série est stationnaire <br>"
   ]
  },
  {
   "cell_type": "code",
   "execution_count": 113,
   "metadata": {
    "collapsed": false,
    "deletable": true,
    "editable": true
   },
   "outputs": [
    {
     "name": "stdout",
     "output_type": "stream",
     "text": [
      "Statistique de test :  -0.631687238281 \n",
      "P_value :  0.863660072291 \n",
      "nb_lags :  2\n"
     ]
    }
   ],
   "source": [
    "from statsmodels.tsa.stattools import adfuller\n",
    "\n",
    "# Test pour log(sp500)\n",
    "t, p_value, lags, obs, crit_val, regression = adfuller(np.log(df.sp500))\n",
    "print(\"Statistique de test : \", t, \"\\nP_value : \", p_value, \"\\nnb_lags : \", lags)"
   ]
  },
  {
   "cell_type": "markdown",
   "metadata": {
    "deletable": true,
    "editable": true
   },
   "source": [
    "On ne peut pas rejeter l'hypothèse de non-stationnarité au risque 5% "
   ]
  },
  {
   "cell_type": "code",
   "execution_count": 114,
   "metadata": {
    "collapsed": false,
    "deletable": true,
    "editable": true
   },
   "outputs": [
    {
     "name": "stdout",
     "output_type": "stream",
     "text": [
      "Statistique de test :  -18.1573541263 \n",
      "P_value :  2.46663340518e-30 \n",
      "nb_lags :  1\n"
     ]
    }
   ],
   "source": [
    "# Test pour pcsp\n",
    "t, p_value, lags, obs, crit_val, regression = adfuller(df['pcsp'])\n",
    "print(\"Statistique de test : \", t, \"\\nP_value : \", p_value, \"\\nnb_lags : \", lags)"
   ]
  },
  {
   "cell_type": "markdown",
   "metadata": {
    "deletable": true,
    "editable": true
   },
   "source": [
    "On rejette l'hypothèse de non-stationnarité au risque 5%"
   ]
  },
  {
   "cell_type": "markdown",
   "metadata": {
    "deletable": true,
    "editable": true
   },
   "source": [
    "D'après le test ADF, on rejette l'hypothèse H0, la série "
   ]
  },
  {
   "cell_type": "code",
   "execution_count": 115,
   "metadata": {
    "collapsed": false,
    "deletable": true,
    "editable": true
   },
   "outputs": [
    {
     "name": "stdout",
     "output_type": "stream",
     "text": [
      "Statistique de test :  -1.99128609257 \n",
      "P_value :  0.290406865746 \n",
      "nb_lags :  3\n"
     ]
    }
   ],
   "source": [
    "# Test pour Div\n",
    "t, p_value, lags, obs, crit_val, regression = adfuller(df['divyld'])\n",
    "print(\"Statistique de test : \", t, \"\\nP_value : \", p_value, \"\\nnb_lags : \", lags)"
   ]
  },
  {
   "cell_type": "markdown",
   "metadata": {
    "deletable": true,
    "editable": true
   },
   "source": [
    "On ne peut pas rejeter l'hypothèse de non-stationnarité au risque 5%"
   ]
  },
  {
   "cell_type": "markdown",
   "metadata": {
    "collapsed": true,
    "deletable": true,
    "editable": true
   },
   "source": [
    "### 4. Interpréter l'autocorrélogramme et l'autocorrélogrammes partiels de pcsp et de divyld. Quelle est la différence entre ces deux graphiques ?"
   ]
  },
  {
   "cell_type": "code",
   "execution_count": 116,
   "metadata": {
    "collapsed": false,
    "deletable": true,
    "editable": true
   },
   "outputs": [
    {
     "data": {
      "image/png": "[encoded data removed]",
      "text/plain": [
       "<matplotlib.figure.Figure at 0x7f8755882c88>"
      ]
     },
     "metadata": {},
     "output_type": "display_data"
    }
   ],
   "source": [
    "fig = plt.figure(figsize=(25, 15))\n",
    "ax1 = fig.add_subplot(221)\n",
    "ax2 = fig.add_subplot(223)\n",
    "ax3 = fig.add_subplot(222)\n",
    "ax4 = fig.add_subplot(224)\n",
    "\n",
    "# pcsp\n",
    "plot_acf(df['pcsp'], lags=20, ax=ax1)\n",
    "ax1.set_title('pcsp autocorrelation')\n",
    "plot_pacf(df['pcsp'], lags=20, ax=ax2)\n",
    "ax2.set_title('pcsp partial autocorrelation')\n",
    "\n",
    "# divyld\n",
    "plot_acf(df['divyld'], lags=20, ax=ax3)\n",
    "ax3.set_title('divyld autocorrelation')\n",
    "plot_pacf(df['divyld'], lags=20, ax=ax4)\n",
    "ax4.set_title('divyld partial autocorrelation')\n",
    "\n",
    "plt.show()\n",
    "\n"
   ]
  },
  {
   "cell_type": "markdown",
   "metadata": {
    "deletable": true,
    "editable": true
   },
   "source": [
    "Nous observons que la première série (PCSP) n'est pas auto-corrélée et que la seconde (Divyld) semble être corrélée à l'ordre 2"
   ]
  },
  {
   "cell_type": "markdown",
   "metadata": {
    "deletable": true,
    "editable": true
   },
   "source": [
    "### 5. Proposer une modélisation AR(p) d’une série de votre choix, en utilisant tous les outils vus au cours."
   ]
  },
  {
   "cell_type": "code",
   "execution_count": 117,
   "metadata": {
    "collapsed": false,
    "deletable": true,
    "editable": true
   },
   "outputs": [
    {
     "name": "stdout",
     "output_type": "stream",
     "text": [
      "0   -9999.00000\n",
      "1      46.54833\n",
      "2     -48.60762\n",
      "3     -44.32714\n",
      "4     -21.36988\n",
      "Name: pcsp, dtype: float64\n"
     ]
    }
   ],
   "source": [
    "X = df['pcsp']\n",
    "print(X.head())"
   ]
  },
  {
   "cell_type": "code",
   "execution_count": 118,
   "metadata": {
    "collapsed": false,
    "deletable": true,
    "editable": true,
    "scrolled": false
   },
   "outputs": [
    {
     "data": {
      "image/png": "[encoded data removed]",
      "text/plain": [
       "<matplotlib.figure.Figure at 0x7f87556fb128>"
      ]
     },
     "metadata": {},
     "output_type": "display_data"
    },
    {
     "name": "stdout",
     "output_type": "stream",
     "text": [
      "minimum p for aic :  3\n",
      "minimum p for bic :  2\n",
      "selected p        :  2  with  bic\n"
     ]
    }
   ],
   "source": [
    "date = df['date'].apply(lambda x:parse(str(int(ceil(modf(x)[0]*100))) + '/01/' + str(int(modf(x)[1]))))\n",
    "m_pcsp = pd.Series(df['pcsp'].tolist(), index=date, dtype=float)\n",
    "ar_mod = AR(m_pcsp)\n",
    "\n",
    "lags = 20\n",
    "bic_list = []\n",
    "aic_list = []\n",
    "\n",
    "for i in range(0, lags):\n",
    "    res = ar_mod.fit(i)\n",
    "    aic_list.append(res.aic)\n",
    "    bic_list.append(res.bic)\n",
    "\n",
    "    \n",
    "fig, (ax1, ax2) = plt.subplots(1, 2)\n",
    "fig.set_size_inches(16, 4)\n",
    "pd.DataFrame(aic_list, columns=['aic']).plot(ax=ax1)\n",
    "legend = ax1.legend(loc = 'best')\n",
    "ax1.set_title('Valeurs de l\\'AIC en fonction de P')\n",
    "pd.DataFrame(bic_list, columns=['bic']).plot(ax=ax2)\n",
    "legend = ax2.legend(loc = 'best')\n",
    "ax2.set_title('Valeurs du BIC en fonction de P')\n",
    "\n",
    "plt.show()\n",
    "    \n",
    "min_p_aic = aic_list.index(min(aic_list))\n",
    "min_p_bic = bic_list.index(min(bic_list))\n",
    "p =  min([min_p_aic, min_p_bic])\n",
    "print('minimum p for aic : ', str(min_p_aic))\n",
    "print('minimum p for bic : ', str(min_p_bic))\n",
    "print('selected p        : ', str(p), ' with ', 'aic' if min_p_aic < min_p_bic else 'bic')\n"
   ]
  },
  {
   "cell_type": "markdown",
   "metadata": {
    "deletable": true,
    "editable": true
   },
   "source": [
    "La série pcsp, qui est stationnaire et devrait être légèrement autocorrélée, peut être modelisée en AR(2) selon le critère du BIC"
   ]
  },
  {
   "cell_type": "code",
   "execution_count": 119,
   "metadata": {
    "collapsed": false,
    "deletable": true,
    "editable": true
   },
   "outputs": [
    {
     "name": "stdout",
     "output_type": "stream",
     "text": [
      "Paramètres du modèle :\n",
      " const    6.043693\n",
      "L1.y     0.242299\n",
      "L2.y     0.005859\n",
      "dtype: float64\n"
     ]
    }
   ],
   "source": [
    "fitted_m = ar_mod.fit(p)\n",
    "print(\"Paramètres du modèle :\\n\", fitted_m.params)"
   ]
  },
  {
   "cell_type": "markdown",
   "metadata": {
    "deletable": true,
    "editable": true
   },
   "source": [
    "### 6. Faire des prévisions pour T+1, T+2, T+3 en utilisant le modèle AR(p) de question 5. Calculer les RMSE."
   ]
  },
  {
   "cell_type": "code",
   "execution_count": 130,
   "metadata": {
    "collapsed": false,
    "deletable": true,
    "editable": true,
    "scrolled": false
   },
   "outputs": [
    {
     "name": "stdout",
     "output_type": "stream",
     "text": [
      "len 558 \n",
      "\n",
      "These are the values estimated at T+1, for each couple of y[T] and y[T-1] :\n",
      "\n",
      " 0   -41.256907\n",
      "1    -5.461187\n",
      "2    -4.981502\n",
      "3     0.606099\n",
      "4    16.056536\n",
      "Name: pcsp, dtype: float64 552    10.359415\n",
      "553    11.717181\n",
      "554     1.605353\n",
      "555     7.357135\n",
      "556     7.913120\n",
      "Name: pcsp, dtype: float64\n"
     ]
    }
   ],
   "source": [
    "#print(ar_mod.predict(fitted_m.params))\n",
    "B = fitted_m.params\n",
    "len = df['pcsp'].shape[0]\n",
    "print('len', len, '\\n')\n",
    "\n",
    "y_T1 = pd.Series(np.zeros(len))\n",
    "\n",
    "y_T1 = B[0] + B[1] * df['pcsp'] + B[2] * df['pcsp'].shift(1)\n",
    "y_T1 = y_T1[1:]\n",
    "y_T1.reset_index(drop=True, inplace=True)\n",
    "print('These are the values estimated at T+1, for each couple of y[T] and y[T-1] :\\n\\n', y_T1.head(), y_T1.tail())"
   ]
  },
  {
   "cell_type": "code",
   "execution_count": 132,
   "metadata": {
    "collapsed": false,
    "deletable": true,
    "editable": true
   },
   "outputs": [
    {
     "name": "stdout",
     "output_type": "stream",
     "text": [
      "0   -62.532039\n",
      "1     4.993156\n",
      "2     4.551912\n",
      "3     5.930860\n",
      "4     9.808982\n",
      "Name: pcsp, dtype: float64\n",
      "552    8.547154\n",
      "553    8.987265\n",
      "554    6.567320\n",
      "555    7.715751\n",
      "556    7.995466\n",
      "Name: pcsp, dtype: float64\n"
     ]
    }
   ],
   "source": [
    "y_T2 = pd.Series(np.zeros(len - 1))\n",
    "\n",
    "y_T2 = B[0] + B[1] * y_T1 + B[2] * df['pcsp'][:-1]\n",
    "y_T2.reset_index(drop=True, inplace=True)\n",
    "print(y_T2.head())\n",
    "print(y_T2.tail())"
   ]
  },
  {
   "cell_type": "code",
   "execution_count": 134,
   "metadata": {
    "collapsed": false,
    "deletable": true,
    "editable": true
   },
   "outputs": [
    {
     "name": "stdout",
     "output_type": "stream",
     "text": [
      "0   -9.349469\n",
      "1    7.221536\n",
      "2    7.117433\n",
      "3    7.484286\n",
      "4    8.514469\n",
      "Name: pcsp, dtype: float64\n",
      "552    8.175352\n",
      "553    8.289945\n",
      "554    7.644354\n",
      "555    7.956315\n",
      "556    8.027347\n",
      "Name: pcsp, dtype: float64\n"
     ]
    }
   ],
   "source": [
    "y_T3 = pd.Series(np.zeros(len-1))\n",
    "y_T3 = B[0] + B[1] * y_T2 + B[2] * y_T1\n",
    "print(y_T3.head())\n",
    "print(y_T3.tail())"
   ]
  },
  {
   "cell_type": "code",
   "execution_count": 139,
   "metadata": {
    "collapsed": false,
    "deletable": true,
    "editable": true
   },
   "outputs": [
    {
     "name": "stdout",
     "output_type": "stream",
     "text": [
      "552    17.838850\n",
      "553    22.983900\n",
      "554   -18.873330\n",
      "555     5.877079\n",
      "556     7.573267\n",
      "Name: pcsp, dtype: float64 551    17.838850\n",
      "552    22.983900\n",
      "553   -18.873330\n",
      "554     5.877079\n",
      "555     7.573267\n",
      "Name: pcsp, dtype: float64 550    17.838850\n",
      "551    22.983900\n",
      "552   -18.873330\n",
      "553     5.877079\n",
      "554     7.573267\n",
      "Name: pcsp, dtype: float64\n",
      "\n",
      "rmse_1 30.6729319735\n",
      "\n",
      "rmse_2 39.7240610646 \n",
      "\n",
      "rmse_3 40.2379965009 \n",
      "\n"
     ]
    }
   ],
   "source": [
    "# Calcul des RMSE\n",
    "\n",
    "# on assigne la médiane aux valeur assignées auparavant à -9999\n",
    "df['pcsp'][df['pcsp'] == -9999] = np.median(df['pcsp'])\n",
    "\n",
    "df1 = df['pcsp'].shift(-1)[:-1]\n",
    "df2 = df['pcsp'].shift(-2)[:-2]\n",
    "df3 = df['pcsp'].shift(-3)[:-3]\n",
    "\n",
    "\n",
    "print(df1.tail(), df2.tail(), df3.tail())\n",
    "\n",
    "rmse_1 = np.sqrt(np.mean( (y_T1 - df1.reset_index(drop=True)) ** 2))\n",
    "print('\\nrmse_1', rmse_1)\n",
    "\n",
    "rmse_2 = np.sqrt(np.mean( (y_T2 - df2.reset_index(drop=True)) ** 2))\n",
    "print('\\nrmse_2', rmse_2, '\\n')\n",
    "\n",
    "rmse_3 = np.sqrt(np.mean( (y_T3 - df3.reset_index(drop=True)) ** 2))\n",
    "print('rmse_3', rmse_3, '\\n')"
   ]
  },
  {
   "cell_type": "markdown",
   "metadata": {
    "deletable": true,
    "editable": true
   },
   "source": [
    "## Séries temporelles partie 2"
   ]
  },
  {
   "cell_type": "markdown",
   "metadata": {
    "deletable": true,
    "editable": true
   },
   "source": [
    "### 1. Ouvrir le fichier intdef Faire une régression de i3 sur inf_1, inf_2, inf_3 et def_1, def_2, def_3 où x_i représente la variable x laggée de i périodes."
   ]
  },
  {
   "cell_type": "code",
   "execution_count": 209,
   "metadata": {
    "collapsed": false,
    "deletable": true,
    "editable": true
   },
   "outputs": [],
   "source": [
    "columns = ['year','i3','inf','rec','out','def','i3_1','inf_1','def_1','ci3','cinf','cdef',\n",
    "           'y77']\n",
    "df = pd.read_csv('textfiles/intdef.raw', sep='\\s+', names=columns)\n",
    "df = df.copy().replace('.',0)\n",
    "df = df.copy().astype(float)\n",
    "i3 = df['i3']"
   ]
  },
  {
   "cell_type": "code",
   "execution_count": 210,
   "metadata": {
    "collapsed": false,
    "deletable": true,
    "editable": true
   },
   "outputs": [
    {
     "name": "stdout",
     "output_type": "stream",
     "text": [
      "0    0.0\n",
      "1    8.1\n",
      "2   -1.2\n",
      "3    1.3\n",
      "4    7.9\n",
      "Name: inf_1, dtype: float64 \n",
      " 0    NaN\n",
      "1    0.0\n",
      "2    8.1\n",
      "3   -1.2\n",
      "4    1.3\n",
      "Name: inf_2, dtype: float64 \n",
      " 0    NaN\n",
      "1    NaN\n",
      "2    0.0\n",
      "3    8.1\n",
      "4   -1.2\n",
      "Name: inf_3, dtype: float64\n"
     ]
    }
   ],
   "source": [
    "### Création des séries inf lagguées\n",
    "inf_2 = df['inf_1'].shift(1)\n",
    "inf_3 = df['inf_1'].shift(2)\n",
    "inf_2.name = \"inf_2\"\n",
    "inf_3.name = \"inf_3\"\n",
    "print(inf_1.head(),'\\n', inf_2.head(), '\\n', inf_3.head())"
   ]
  },
  {
   "cell_type": "code",
   "execution_count": 211,
   "metadata": {
    "collapsed": false,
    "deletable": true,
    "editable": true
   },
   "outputs": [
    {
     "name": "stdout",
     "output_type": "stream",
     "text": [
      "0    0.000000\n",
      "1   -4.600000\n",
      "2   -0.200000\n",
      "3    1.200001\n",
      "4   -1.900001\n",
      "Name: def_1, dtype: float64 \n",
      " 0         NaN\n",
      "1    0.000000\n",
      "2   -4.600000\n",
      "3   -0.200000\n",
      "4    1.200001\n",
      "Name: def_2, dtype: float64 \n",
      " 0    NaN\n",
      "1    NaN\n",
      "2    0.0\n",
      "3   -4.6\n",
      "4   -0.2\n",
      "Name: def_3, dtype: float64\n"
     ]
    }
   ],
   "source": [
    "### Création des séries def lagguées\n",
    "def_1 = df['def_1']\n",
    "def_2 = df['def_1'].shift(1)\n",
    "def_2.name = \"def_2\"\n",
    "def_3 = df['def_1'].shift(2)\n",
    "def_3.name = \"def_3\"\n",
    "print(def_1.head(),'\\n', def_2.head(), '\\n', def_3.head())"
   ]
  },
  {
   "cell_type": "code",
   "execution_count": 212,
   "metadata": {
    "collapsed": false,
    "deletable": true,
    "editable": true,
    "scrolled": false
   },
   "outputs": [
    {
     "name": "stdout",
     "output_type": "stream",
     "text": [
      "     i3  inf_1  inf_2  inf_3\n",
      "0  1.04    0.0    NaN    NaN\n",
      "1  1.10    8.1    0.0    NaN\n",
      "2  1.22   -1.2    8.1    0.0\n",
      "3  1.55    1.3   -1.2    8.1\n",
      "4  1.77    7.9    1.3   -1.2\n",
      "                            OLS Regression Results                            \n",
      "==============================================================================\n",
      "Dep. Variable:                     i3   R-squared:                       0.566\n",
      "Model:                            OLS   Adj. R-squared:                  0.540\n",
      "Method:                 Least Squares   F-statistic:                     21.71\n",
      "Date:                Fri, 05 May 2017   Prob (F-statistic):           3.84e-09\n",
      "Time:                        16:28:28   Log-Likelihood:                -109.61\n",
      "No. Observations:                  54   AIC:                             227.2\n",
      "Df Residuals:                      50   BIC:                             235.2\n",
      "Df Model:                           3                                         \n",
      "Covariance Type:            nonrobust                                         \n",
      "==============================================================================\n",
      "                 coef    std err          t      P>|t|      [0.025      0.975]\n",
      "------------------------------------------------------------------------------\n",
      "Intercept      1.9990      0.471      4.245      0.000       1.053       2.945\n",
      "inf_1          0.5449      0.119      4.587      0.000       0.306       0.784\n",
      "inf_2          0.0081      0.133      0.061      0.952      -0.260       0.276\n",
      "inf_3          0.2381      0.109      2.193      0.033       0.020       0.456\n",
      "==============================================================================\n",
      "Omnibus:                        2.617   Durbin-Watson:                   0.818\n",
      "Prob(Omnibus):                  0.270   Jarque-Bera (JB):                2.194\n",
      "Skew:                          -0.370   Prob(JB):                        0.334\n",
      "Kurtosis:                       2.345   Cond. No.                         14.8\n",
      "==============================================================================\n",
      "\n",
      "Warnings:\n",
      "[1] Standard Errors assume that the covariance matrix of the errors is correctly specified.\n"
     ]
    }
   ],
   "source": [
    "formula1 = 'i3 ~ inf_1 + inf_2 + inf_3'\n",
    "\n",
    "\n",
    "inf_df = pd.concat([i3, inf_1, inf_2, inf_3], axis=1)\n",
    "print(inf_df.head())\n",
    "model1 = smf.ols(formula1, data=inf_df)\n",
    "results1 = model1.fit()\n",
    "print(results1.summary())"
   ]
  },
  {
   "cell_type": "code",
   "execution_count": 213,
   "metadata": {
    "collapsed": false,
    "deletable": true,
    "editable": true
   },
   "outputs": [
    {
     "name": "stdout",
     "output_type": "stream",
     "text": [
      "                            OLS Regression Results                            \n",
      "==============================================================================\n",
      "Dep. Variable:                     i3   R-squared:                       0.327\n",
      "Model:                            OLS   Adj. R-squared:                  0.286\n",
      "Method:                 Least Squares   F-statistic:                     8.085\n",
      "Date:                Fri, 05 May 2017   Prob (F-statistic):           0.000173\n",
      "Time:                        16:28:28   Log-Likelihood:                -121.45\n",
      "No. Observations:                  54   AIC:                             250.9\n",
      "Df Residuals:                      50   BIC:                             258.9\n",
      "Df Model:                           3                                         \n",
      "Covariance Type:            nonrobust                                         \n",
      "==============================================================================\n",
      "                 coef    std err          t      P>|t|      [0.025      0.975]\n",
      "------------------------------------------------------------------------------\n",
      "Intercept      3.6642      0.443      8.271      0.000       2.774       4.554\n",
      "def_1          0.1725      0.247      0.698      0.489      -0.324       0.669\n",
      "def_2          0.2564      0.270      0.950      0.347      -0.286       0.798\n",
      "def_3          0.4353      0.224      1.944      0.058      -0.015       0.885\n",
      "==============================================================================\n",
      "Omnibus:                       17.635   Durbin-Watson:                   0.409\n",
      "Prob(Omnibus):                  0.000   Jarque-Bera (JB):               23.258\n",
      "Skew:                           1.194   Prob(JB):                     8.91e-06\n",
      "Kurtosis:                       5.152   Cond. No.                         6.02\n",
      "==============================================================================\n",
      "\n",
      "Warnings:\n",
      "[1] Standard Errors assume that the covariance matrix of the errors is correctly specified.\n"
     ]
    }
   ],
   "source": [
    "formula2 = 'i3 ~ def_1 + def_2 + def_3'\n",
    "def_df = pd.concat([i3, def_1, def_2, def_3], axis=1)\n",
    "model2 = smf.ols(formula2, data=df)\n",
    "results2 = model2.fit()\n",
    "print(results2.summary())"
   ]
  },
  {
   "cell_type": "markdown",
   "metadata": {
    "deletable": true,
    "editable": true
   },
   "source": [
    "Intercept      3.6642      0.443      8.271      0.000       2.774       4.554\n",
    "def_1          0.1725      0.247      0.698      0.489      -0.324       0.669\n",
    "def_2          0.2564      0.270      0.950      0.347      -0.286       0.798\n",
    "def_3          0.4353      0.224      1.944      0.058      -0.015       0.885"
   ]
  },
  {
   "cell_type": "code",
   "execution_count": 214,
   "metadata": {
    "collapsed": false,
    "deletable": true,
    "editable": true
   },
   "outputs": [
    {
     "name": "stdout",
     "output_type": "stream",
     "text": [
      "Impact de inf : \n",
      " 1 période :  0.5449 2 périodes :  0.0081 3 périodes :  0.2381 long terme :  0.7911\n",
      "Impact de def : \n",
      " 1 période :  0.1725 2 périodes :  0.2564 3 périodes :  0.4353 long terme : 0.8642000000000001\n"
     ]
    }
   ],
   "source": [
    "print(\"Impact de inf : \\n\",\"1 période : \", 0.5449, \"2 périodes : \", 0.0081, \"3 périodes : \", 0.2381,\n",
    "      \"long terme : \", 0.5449+0.0081+0.2381)\n",
    "print(\"Impact de def : \\n\",\"1 période : \", 0.1725, \"2 périodes : \", 0.2564,\"3 périodes : \", 0.4353,\n",
    "     \"long terme : {}\".format(0.1725+0.2564+0.4353, 1))"
   ]
  },
  {
   "cell_type": "markdown",
   "metadata": {
    "deletable": true,
    "editable": true
   },
   "source": [
    "<u>Commentez :</u>\n",
    "\n",
    "Nous voyons que l'inflation a un impact fort à court terme sur le taux d'interêt.<br>\n",
    "D'autre part, le deficit a court terme semble avoir peut d'impact, son effet est plus progressif.<br>\n",
    "Les deux variables ont un impact similaire sur le taux d'interêt à long terme."
   ]
  },
  {
   "cell_type": "markdown",
   "metadata": {
    "deletable": true,
    "editable": true
   },
   "source": [
    "### 2. Tester l’auto-corrélation des erreurs"
   ]
  },
  {
   "cell_type": "code",
   "execution_count": 239,
   "metadata": {
    "collapsed": false,
    "deletable": true,
    "editable": true,
    "scrolled": false
   },
   "outputs": [
    {
     "name": "stdout",
     "output_type": "stream",
     "text": [
      "0         NaN\n",
      "1         NaN\n",
      "2   -0.190962\n",
      "3   -3.075925\n",
      "4   -4.258822\n",
      "Name: pred1, dtype: float64 \n",
      " 0         NaN\n",
      "1         NaN\n",
      "2         NaN\n",
      "3   -0.190962\n",
      "4   -3.075925\n",
      "Name: pred1 - 1, dtype: float64\n",
      "Statistique de test  :  inf\n",
      "P valeur     :  0.0\n",
      "                            OLS Regression Results                            \n",
      "==============================================================================\n",
      "Dep. Variable:                  pred1   R-squared:                       1.000\n",
      "Model:                            OLS   Adj. R-squared:                  1.000\n",
      "Method:                 Least Squares   F-statistic:                       inf\n",
      "Date:                Fri, 05 May 2017   Prob (F-statistic):               0.00\n",
      "Time:                        16:54:27   Log-Likelihood:                    inf\n",
      "No. Observations:                  54   AIC:                              -inf\n",
      "Df Residuals:                      53   BIC:                              -inf\n",
      "Df Model:                           1                                         \n",
      "Covariance Type:            nonrobust                                         \n",
      "==============================================================================\n",
      "                 coef    std err          t      P>|t|      [0.025      0.975]\n",
      "------------------------------------------------------------------------------\n",
      "pred1          1.0000          0        inf      0.000       1.000       1.000\n",
      "==============================================================================\n",
      "Omnibus:                        1.064   Durbin-Watson:                     nan\n",
      "Prob(Omnibus):                  0.587   Jarque-Bera (JB):               20.250\n",
      "Skew:                           0.000   Prob(JB):                     4.01e-05\n",
      "Kurtosis:                       0.000   Cond. No.                         1.00\n",
      "==============================================================================\n",
      "\n",
      "Warnings:\n",
      "[1] Standard Errors assume that the covariance matrix of the errors is correctly specified.\n"
     ]
    }
   ],
   "source": [
    "prediction1 = results1.predict(inf_df[['inf_1','inf_2','inf_3']])\n",
    "errors = pd.DataFrame()\n",
    "errors['pred1'] = df['i3'] - prediction1\n",
    "errors['pred1 - 1'] = errors['pred1'].shift(1)\n",
    "\n",
    "print(errors['pred1'].head(),'\\n', errors['pred1 - 1'].head())\n",
    "\n",
    "# régression MCO sur les erreurs.\n",
    "results_err_1 = smf.ols('pred1 ~ pred1 - 1', data=errors).fit()\n",
    "\n",
    "# Test de Student\n",
    "print('Statistique de test  : ', str(results_err_1.tvalues[0]))\n",
    "print('P valeur     : ', str(results_err_1.pvalues[0]))\n",
    "print (results_err_1.summary())"
   ]
  },
  {
   "cell_type": "markdown",
   "metadata": {
    "deletable": true,
    "editable": true
   },
   "source": [
    "#### Regardons maintenant la 2e série"
   ]
  },
  {
   "cell_type": "code",
   "execution_count": 238,
   "metadata": {
    "collapsed": false,
    "deletable": true,
    "editable": true,
    "scrolled": false
   },
   "outputs": [
    {
     "name": "stdout",
     "output_type": "stream",
     "text": [
      "Statistique de test  :  3.4930663426e+16\n",
      "P valeur     :  0.0\n",
      "                            OLS Regression Results                            \n",
      "==============================================================================\n",
      "Dep. Variable:                  pred2   R-squared:                       1.000\n",
      "Model:                            OLS   Adj. R-squared:                  1.000\n",
      "Method:                 Least Squares   F-statistic:                 1.220e+33\n",
      "Date:                Fri, 05 May 2017   Prob (F-statistic):               0.00\n",
      "Time:                        16:49:48   Log-Likelihood:                 1828.3\n",
      "No. Observations:                  54   AIC:                            -3655.\n",
      "Df Residuals:                      53   BIC:                            -3653.\n",
      "Df Model:                           1                                         \n",
      "Covariance Type:            nonrobust                                         \n",
      "==============================================================================\n",
      "                 coef    std err          t      P>|t|      [0.025      0.975]\n",
      "------------------------------------------------------------------------------\n",
      "pred2          1.0000   2.86e-17   3.49e+16      0.000       1.000       1.000\n",
      "==============================================================================\n",
      "Omnibus:                       15.600   Durbin-Watson:                   0.481\n",
      "Prob(Omnibus):                  0.000   Jarque-Bera (JB):               21.335\n",
      "Skew:                           1.012   Prob(JB):                     2.33e-05\n",
      "Kurtosis:                       5.321   Cond. No.                         1.00\n",
      "==============================================================================\n",
      "\n",
      "Warnings:\n",
      "[1] Standard Errors assume that the covariance matrix of the errors is correctly specified.\n"
     ]
    }
   ],
   "source": [
    "prediction2 = results2.predict(def_df[['def_1','def_2','def_3']])\n",
    "errors = pd.DataFrame()\n",
    "errors['pred2'] = (df['i3'] - prediction2)\n",
    "errors['pred2 - 1'] = errors['pred2'].shift()\n",
    "errors['pred2'] = errors['pred2'].drop(df.index[0])\n",
    "# régression MCO\n",
    "results_err_2 = smf.ols('pred2 ~ pred2 - 1', data=errors).fit()\n",
    "\n",
    "# Test de Student\n",
    "print('Statistique de test  : ', str(results_err_2.tvalues[0]))\n",
    "print('P valeur     : ', str(results_err_2.pvalues[0]))\n",
    "print (results_err_2.summary())"
   ]
  },
  {
   "cell_type": "markdown",
   "metadata": {
    "deletable": true,
    "editable": true
   },
   "source": [
    "Hypothèse H0 : Les erreurs ne sont pas corrélées <br>\n",
    "Hypothèse H1 : Existence d'un processus auto-regressif d'ordre 1\n",
    "La statistique obtenue est de 0.481.\n",
    "Nous regardons dans la table de Durbin Watson et les valeurs sur lesquelles nous pouvons avoir un doute sont : <br>\n",
    "1.285 et 1.445 à 1% de significativité.\n",
    "\n",
    "Nous pouvons donc rejeter H0, il est possible qu'il y ai une auto-corrélation positive d'ordre 1.\n"
   ]
  },
  {
   "cell_type": "markdown",
   "metadata": {
    "deletable": true,
    "editable": true
   },
   "source": [
    "### 3. Tester l’hypothèse que les valeurs passées de inf n’ont pas d’impact sur i3."
   ]
  },
  {
   "cell_type": "code",
   "execution_count": null,
   "metadata": {
    "collapsed": true,
    "deletable": true,
    "editable": true
   },
   "outputs": [],
   "source": []
  }
 ],
 "metadata": {
  "anaconda-cloud": {},
  "kernelspec": {
   "display_name": "Python 3",
   "language": "python",
   "name": "python3"
  },
  "language_info": {
   "codemirror_mode": {
    "name": "ipython",
    "version": 3
   },
   "file_extension": ".py",
   "mimetype": "text/x-python",
   "name": "python",
   "nbconvert_exporter": "python",
   "pygments_lexer": "ipython3",
   "version": "3.5.2"
  }
 },
 "nbformat": 4,
 "nbformat_minor": 2
}
